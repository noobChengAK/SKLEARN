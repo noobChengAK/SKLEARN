{
 "cells": [
  {
   "cell_type": "code",
   "execution_count": 14,
   "id": "c324bd3d",
   "metadata": {},
   "outputs": [],
   "source": [
    "import numpy as np\n",
    "import pandas as pd\n",
    "import os"
   ]
  },
  {
   "cell_type": "markdown",
   "id": "c4eb516d",
   "metadata": {},
   "source": [
    "#store the files name in to one name_list(csv_name_list)"
   ]
  },
  {
   "cell_type": "code",
   "execution_count": 15,
   "id": "bad5cfea",
   "metadata": {},
   "outputs": [],
   "source": [
    "filepath = 'C:\\\\Users\\\\Tang\\\\Desktop\\\\OPP-115\\\\annotations'\n",
    "csv_name_list = os.listdir(filepath)"
   ]
  },
  {
   "cell_type": "code",
   "execution_count": 16,
   "id": "ba3ce661",
   "metadata": {},
   "outputs": [
    {
     "data": {
      "text/plain": [
       "['1017_sci-news.com.csv',\n",
       " '1028_redorbit.com.csv',\n",
       " '1034_aol.com.csv',\n",
       " '1050_honda.com.csv',\n",
       " '105_amazon.com.csv',\n",
       " '1070_wnep.com.csv',\n",
       " '1083_highgearmedia.com.csv',\n",
       " '1089_freep.com.csv',\n",
       " '1099_enthusiastnetwork.com.csv',\n",
       " '1106_allstate.com.csv',\n",
       " '1164_acbj.com.csv',\n",
       " '1205_opensecrets.org.csv',\n",
       " '1206_dcccd.edu.csv',\n",
       " '1221_gwdocs.com.csv',\n",
       " '1224_austincc.edu.csv',\n",
       " '1252_cincymuseum.org.csv',\n",
       " '1259_fool.com.csv',\n",
       " '1261_zacks.com.csv',\n",
       " '1264_citizen.org.csv',\n",
       " '1300_bankofamerica.com.csv',\n",
       " '1306_chasepaymentech.com.csv',\n",
       " '133_fortune.com.csv',\n",
       " '135_instagram.com.csv',\n",
       " '1360_thehill.com.csv',\n",
       " '1361_yahoo.com.csv',\n",
       " '1419_miaminewtimes.com.csv',\n",
       " '144_style.com.csv',\n",
       " '1468_rockstargames.com.csv',\n",
       " '1470_steampowered.com.csv',\n",
       " '1498_ticketmaster.com.csv',\n",
       " '1510_jibjab.com.csv',\n",
       " '1539_geocaching.com.csv',\n",
       " '1545_taylorswift.com.csv',\n",
       " '1582_msn.com.csv',\n",
       " '1610_post-gazette.com.csv',\n",
       " '1618_sltrib.com.csv',\n",
       " '1636_sidearmsports.com.csv',\n",
       " '1637_dailyillini.com.csv',\n",
       " '164_adweek.com.csv',\n",
       " '1666_wsmv.com.csv',\n",
       " '1673_tulsaworld.com.csv',\n",
       " '1683_dailynews.com.csv',\n",
       " '1694_lids.com.csv',\n",
       " '1703_sports-reference.com.csv',\n",
       " '1708_foxsports.com.csv',\n",
       " '1713_latinpost.com.csv',\n",
       " '175_mlb.mlb.com.csv',\n",
       " '186_abcnews.com.csv',\n",
       " '200_washingtonpost.com.csv',\n",
       " '202_foodallergy.org.csv',\n",
       " '207_reference.com.csv',\n",
       " '20_theatlantic.com.csv',\n",
       " '21_imdb.com.csv',\n",
       " '228_gawker.com.csv',\n",
       " '26_nytimes.com.csv',\n",
       " '303_reddit.com.csv',\n",
       " '320_timeinc.com.csv',\n",
       " '325_ocregister.com.csv',\n",
       " '32_voxmedia.com.csv',\n",
       " '331_tgifridays.com.csv',\n",
       " '33_nbcuniversal.com.csv',\n",
       " '348_walmart.com.csv',\n",
       " '359_vikings.com.csv',\n",
       " '394_newsbusters.org.csv',\n",
       " '414_washingtonian.com.csv',\n",
       " '453_barnesandnoble.com.csv',\n",
       " '456_boardgamegeek.com.csv',\n",
       " '481_fredericknewspost.com.csv',\n",
       " '503_buffalowildwings.com.csv',\n",
       " '517_kaleidahealth.org.csv',\n",
       " '523_usa.gov.csv',\n",
       " '531_archives.gov.csv',\n",
       " '541_ifsa-butler.org.csv',\n",
       " '559_www.loc.gov.csv',\n",
       " '571_abita.com.csv',\n",
       " '581_coffeereview.com.csv',\n",
       " '584_communitycoffee.com.csv',\n",
       " '586_cariboucoffee.com.csv',\n",
       " '58_esquire.com.csv',\n",
       " '591_google.com.csv',\n",
       " '59_liquor.com.csv',\n",
       " '627_dairyqueen.com.csv',\n",
       " '635_playstation.com.csv',\n",
       " '640_gamestop.com.csv',\n",
       " '641_cbsinteractive.com.csv',\n",
       " '642_thefreedictionary.com.csv',\n",
       " '652_randomhouse.com.csv',\n",
       " '676_restaurantnews.com.csv',\n",
       " '686_military.com.csv',\n",
       " '701_tangeroutlet.com.csv',\n",
       " '70_meredith.com.csv',\n",
       " '723_dogbreedinfo.com.csv',\n",
       " '744_minecraft.gamepedia.com.csv',\n",
       " '745_eatchicken.com.csv',\n",
       " '746_kraftrecipes.com.csv',\n",
       " '760_si.edu.csv',\n",
       " '777_education.jlab.org.csv',\n",
       " '807_lodgemfg.com.csv',\n",
       " '817_ironhorsevineyards.com.csv',\n",
       " '82_sheknows.com.csv',\n",
       " '856_sciencemag.org.csv',\n",
       " '862_disinfo.com.csv',\n",
       " '883_ted.com.csv',\n",
       " '884_naturalnews.com.csv',\n",
       " '891_everydayhealth.com.csv',\n",
       " '898_uptodate.com.csv',\n",
       " '907_earthkam.org.csv',\n",
       " '919_uh.edu.csv',\n",
       " '928_stlouisfed.org.csv',\n",
       " '93_pbs.org.csv',\n",
       " '940_internetbrands.com.csv',\n",
       " '962_lynda.com.csv',\n",
       " '988_solarviews.com.csv',\n",
       " '98_neworleansonline.com.csv',\n",
       " '995_mohegansun.com.csv']"
      ]
     },
     "execution_count": 16,
     "metadata": {},
     "output_type": "execute_result"
    }
   ],
   "source": [
    "csv_name_list"
   ]
  },
  {
   "cell_type": "code",
   "execution_count": 24,
   "id": "cfa32499",
   "metadata": {},
   "outputs": [
    {
     "data": {
      "text/plain": [
       "115"
      ]
     },
     "execution_count": 24,
     "metadata": {},
     "output_type": "execute_result"
    }
   ],
   "source": [
    "# get the length of the namelist\n",
    "totalLength = len(csv_name_list)\n",
    "totalLength\n"
   ]
  },
  {
   "cell_type": "code",
   "execution_count": 25,
   "id": "1549ca59",
   "metadata": {},
   "outputs": [],
   "source": [
    "df = pd.read_csv(filepath + '\\\\' + csv_name_list[0]) \n"
   ]
  },
  {
   "cell_type": "code",
   "execution_count": 26,
   "id": "d6bb0461",
   "metadata": {},
   "outputs": [],
   "source": [
    "#save the first csv\n",
    "SaveDestination = 'C:\\\\Users\\\\Tang\\\\Documents\\\\GitHub\\\\SKLEARN\\\\y3project\\\\opp_operation_data'\n",
    "SaveFileName = 'all.csv'\n",
    "df.to_csv(SaveDestination + '\\\\' + SaveFileName,encoding = \"utf_8_sig\",index = False )"
   ]
  },
  {
   "cell_type": "code",
   "execution_count": 27,
   "id": "031e91c9",
   "metadata": {},
   "outputs": [],
   "source": [
    "for i in range(1,totalLength):\n",
    "    df = pd.read_csv(filepath+ '\\\\' + csv_name_list[i])\n",
    "    df.to_csv(SaveDestination + '\\\\' + SaveFileName,encoding = \"utf_8_sig\",index = False,header=False,mode = 'a+')"
   ]
  },
  {
   "cell_type": "code",
   "execution_count": null,
   "id": "892c7229",
   "metadata": {},
   "outputs": [],
   "source": []
  }
 ],
 "metadata": {
  "kernelspec": {
   "display_name": "Python 3",
   "language": "python",
   "name": "python3"
  },
  "language_info": {
   "codemirror_mode": {
    "name": "ipython",
    "version": 3
   },
   "file_extension": ".py",
   "mimetype": "text/x-python",
   "name": "python",
   "nbconvert_exporter": "python",
   "pygments_lexer": "ipython3",
   "version": "3.8.8"
  }
 },
 "nbformat": 4,
 "nbformat_minor": 5
}
