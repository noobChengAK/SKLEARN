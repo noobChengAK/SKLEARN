{
 "cells": [
  {
   "cell_type": "code",
   "execution_count": 2,
   "id": "ca11cf81",
   "metadata": {},
   "outputs": [],
   "source": [
    "import pandas as pd\n",
    "import csv\n",
    "import numpy as np"
   ]
  },
  {
   "cell_type": "code",
   "execution_count": 3,
   "id": "1864c31c",
   "metadata": {},
   "outputs": [],
   "source": [
    "def get_excel_data(self, file_path:str) -> list:\n",
    "\n",
    "        rows = []\n",
    "\n",
    "        with open(file_path, newline='',  encoding=\"utf8\") as csvfile:\n",
    "\n",
    "            reader = csv.DictReader(csvfile)\n",
    "\n",
    "            for row in reader:\n",
    "\n",
    "                rows.append(row)\n",
    "\n",
    "        return rows"
   ]
  },
  {
   "cell_type": "code",
   "execution_count": 8,
   "id": "b04f7cc2",
   "metadata": {},
   "outputs": [
    {
     "ename": "NameError",
     "evalue": "name 'two_columns' is not defined",
     "output_type": "error",
     "traceback": [
      "\u001b[0;31m---------------------------------------------------------------------------\u001b[0m",
      "\u001b[0;31mNameError\u001b[0m                                 Traceback (most recent call last)",
      "\u001b[0;32m/tmp/ipykernel_26462/2456241042.py\u001b[0m in \u001b[0;36m<module>\u001b[0;34m\u001b[0m\n\u001b[0;32m----> 1\u001b[0;31m \u001b[0mget_excel_data\u001b[0m\u001b[0;34m(\u001b[0m\u001b[0mtwo_columns\u001b[0m\u001b[0;34m.\u001b[0m\u001b[0mcsv\u001b[0m\u001b[0;34m,\u001b[0m\u001b[0;34m'/home/n34851zc/GitRepos/Y3/SKLEARN/y3project/opp_operation_data/two_columns.csv'\u001b[0m\u001b[0;34m)\u001b[0m\u001b[0;34m\u001b[0m\u001b[0;34m\u001b[0m\u001b[0m\n\u001b[0m",
      "\u001b[0;31mNameError\u001b[0m: name 'two_columns' is not defined"
     ]
    }
   ],
   "source": [
    "get_excel_data(,'/home/n34851zc/GitRepos/Y3/SKLEARN/y3project/opp_operation_data/two_columns.csv')"
   ]
  },
  {
   "cell_type": "code",
   "execution_count": null,
   "id": "c09bac0b",
   "metadata": {},
   "outputs": [],
   "source": []
  }
 ],
 "metadata": {
  "kernelspec": {
   "display_name": "Python 3 (ipykernel)",
   "language": "python",
   "name": "python3"
  },
  "language_info": {
   "codemirror_mode": {
    "name": "ipython",
    "version": 3
   },
   "file_extension": ".py",
   "mimetype": "text/x-python",
   "name": "python",
   "nbconvert_exporter": "python",
   "pygments_lexer": "ipython3",
   "version": "3.8.5"
  }
 },
 "nbformat": 4,
 "nbformat_minor": 5
}
