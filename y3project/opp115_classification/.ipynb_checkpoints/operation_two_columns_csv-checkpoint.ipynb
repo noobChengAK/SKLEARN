{
 "cells": [
  {
   "cell_type": "code",
   "execution_count": 75,
   "id": "ca11cf81",
   "metadata": {},
   "outputs": [],
   "source": [
    "import pandas as pd\n",
    "import csv\n",
    "import numpy as np\n",
    "import json"
   ]
  },
  {
   "cell_type": "code",
   "execution_count": 76,
   "id": "cebf4aa6",
   "metadata": {},
   "outputs": [],
   "source": [
    "filepath = './opp_operation_data/two_columns.csv'"
   ]
  },
  {
   "cell_type": "code",
   "execution_count": 77,
   "id": "1864c31c",
   "metadata": {},
   "outputs": [],
   "source": [
    "df1 = pd.read_csv(filepath)"
   ]
  },
  {
   "cell_type": "code",
   "execution_count": 78,
   "id": "b04f7cc2",
   "metadata": {},
   "outputs": [
    {
     "data": {
      "text/html": [
       "<div>\n",
       "<style scoped>\n",
       "    .dataframe tbody tr th:only-of-type {\n",
       "        vertical-align: middle;\n",
       "    }\n",
       "\n",
       "    .dataframe tbody tr th {\n",
       "        vertical-align: top;\n",
       "    }\n",
       "\n",
       "    .dataframe thead th {\n",
       "        text-align: right;\n",
       "    }\n",
       "</style>\n",
       "<table border=\"1\" class=\"dataframe\">\n",
       "  <thead>\n",
       "    <tr style=\"text-align: right;\">\n",
       "      <th></th>\n",
       "      <th>Category</th>\n",
       "      <th>Segements</th>\n",
       "    </tr>\n",
       "  </thead>\n",
       "  <tbody>\n",
       "    <tr>\n",
       "      <th>0</th>\n",
       "      <td>Other</td>\n",
       "      <td>{\"Other Type\": {\"selectedText\": \"Sci-News.com ...</td>\n",
       "    </tr>\n",
       "    <tr>\n",
       "      <th>1</th>\n",
       "      <td>First Party Collection/Use</td>\n",
       "      <td>{\"Collection Mode\": {\"selectedText\": \"nformati...</td>\n",
       "    </tr>\n",
       "    <tr>\n",
       "      <th>2</th>\n",
       "      <td>First Party Collection/Use</td>\n",
       "      <td>{\"Collection Mode\": {\"selectedText\": \"nformati...</td>\n",
       "    </tr>\n",
       "    <tr>\n",
       "      <th>3</th>\n",
       "      <td>Data Retention</td>\n",
       "      <td>{\"Personal Information Type\": {\"selectedText\":...</td>\n",
       "    </tr>\n",
       "    <tr>\n",
       "      <th>4</th>\n",
       "      <td>First Party Collection/Use</td>\n",
       "      <td>{\"Collection Mode\": {\"selectedText\": \"Not sele...</td>\n",
       "    </tr>\n",
       "    <tr>\n",
       "      <th>...</th>\n",
       "      <td>...</td>\n",
       "      <td>...</td>\n",
       "    </tr>\n",
       "    <tr>\n",
       "      <th>23075</th>\n",
       "      <td>Other</td>\n",
       "      <td>{\"Other Type\": {\"endIndexInSegment\": 220, \"sta...</td>\n",
       "    </tr>\n",
       "    <tr>\n",
       "      <th>23076</th>\n",
       "      <td>Other</td>\n",
       "      <td>{\"Other Type\": {\"endIndexInSegment\": 220, \"sta...</td>\n",
       "    </tr>\n",
       "    <tr>\n",
       "      <th>23077</th>\n",
       "      <td>Other</td>\n",
       "      <td>{\"Other Type\": {\"endIndexInSegment\": 190, \"sta...</td>\n",
       "    </tr>\n",
       "    <tr>\n",
       "      <th>23078</th>\n",
       "      <td>Other</td>\n",
       "      <td>{\"Other Type\": {\"endIndexInSegment\": 151, \"sta...</td>\n",
       "    </tr>\n",
       "    <tr>\n",
       "      <th>23079</th>\n",
       "      <td>Other</td>\n",
       "      <td>{\"Other Type\": {\"endIndexInSegment\": 190, \"sta...</td>\n",
       "    </tr>\n",
       "  </tbody>\n",
       "</table>\n",
       "<p>23080 rows × 2 columns</p>\n",
       "</div>"
      ],
      "text/plain": [
       "                         Category  \\\n",
       "0                           Other   \n",
       "1      First Party Collection/Use   \n",
       "2      First Party Collection/Use   \n",
       "3                  Data Retention   \n",
       "4      First Party Collection/Use   \n",
       "...                           ...   \n",
       "23075                       Other   \n",
       "23076                       Other   \n",
       "23077                       Other   \n",
       "23078                       Other   \n",
       "23079                       Other   \n",
       "\n",
       "                                               Segements  \n",
       "0      {\"Other Type\": {\"selectedText\": \"Sci-News.com ...  \n",
       "1      {\"Collection Mode\": {\"selectedText\": \"nformati...  \n",
       "2      {\"Collection Mode\": {\"selectedText\": \"nformati...  \n",
       "3      {\"Personal Information Type\": {\"selectedText\":...  \n",
       "4      {\"Collection Mode\": {\"selectedText\": \"Not sele...  \n",
       "...                                                  ...  \n",
       "23075  {\"Other Type\": {\"endIndexInSegment\": 220, \"sta...  \n",
       "23076  {\"Other Type\": {\"endIndexInSegment\": 220, \"sta...  \n",
       "23077  {\"Other Type\": {\"endIndexInSegment\": 190, \"sta...  \n",
       "23078  {\"Other Type\": {\"endIndexInSegment\": 151, \"sta...  \n",
       "23079  {\"Other Type\": {\"endIndexInSegment\": 190, \"sta...  \n",
       "\n",
       "[23080 rows x 2 columns]"
      ]
     },
     "execution_count": 78,
     "metadata": {},
     "output_type": "execute_result"
    }
   ],
   "source": [
    "df1"
   ]
  },
  {
   "cell_type": "code",
   "execution_count": 93,
   "id": "c09bac0b",
   "metadata": {},
   "outputs": [
    {
     "data": {
      "text/plain": [
       "'{\"Collection Mode\": {\"selectedText\": \"nformation that you provide by filling in forms on our site\", \"startIndexInSegment\": 139, \"endIndexInSegment\": 198, \"value\": \"Explicit\"}, \"Choice Scope\": {\"selectedText\": \"null\", \"startIndexInSegment\": -1, \"endIndexInSegment\": -1, \"value\": \"not-selected\"}, \"Action First-Party\": {\"selectedText\": \"Sci-News.com may collect and process\", \"startIndexInSegment\": 59, \"endIndexInSegment\": 95, \"value\": \"Unspecified\"}, \"Personal Information Type\": {\"selectedText\": \"names, e-mail and website addresses\", \"startIndexInSegment\": 210, \"endIndexInSegment\": 245, \"value\": \"Contact\"}, \"Choice Type\": {\"selectedText\": \"Not selected\", \"startIndexInSegment\": -1, \"endIndexInSegment\": -1, \"value\": \"Unspecified\"}, \"Identifiability\": {\"selectedText\": \"null\", \"startIndexInSegment\": -1, \"endIndexInSegment\": -1, \"value\": \"not-selected\"}, \"Does/Does Not\": {\"selectedText\": \"null\", \"startIndexInSegment\": -1, \"endIndexInSegment\": -1, \"value\": \"Does\"}, \"User Type\": {\"selectedText\": \"Not selected\", \"startIndexInSegment\": -1, \"endIndexInSegment\": -1, \"value\": \"Unspecified\"}, \"Purpose\": {\"selectedText\": \"other purposes, for example when you report a problem with our site\", \"startIndexInSegment\": 287, \"endIndexInSegment\": 354, \"value\": \"Basic service/feature\"}}'"
      ]
     },
     "execution_count": 93,
     "metadata": {},
     "output_type": "execute_result"
    }
   ],
   "source": [
    "json_list = df1.iloc[2].tolist()\n",
    "type(json_list)\n",
    "json_list[1]"
   ]
  },
  {
   "cell_type": "code",
   "execution_count": 94,
   "id": "0d417285",
   "metadata": {
    "scrolled": true
   },
   "outputs": [
    {
     "data": {
      "text/plain": [
       "{'Collection Mode': {'selectedText': 'nformation that you provide by filling in forms on our site',\n",
       "  'startIndexInSegment': 139,\n",
       "  'endIndexInSegment': 198,\n",
       "  'value': 'Explicit'},\n",
       " 'Choice Scope': {'selectedText': 'null',\n",
       "  'startIndexInSegment': -1,\n",
       "  'endIndexInSegment': -1,\n",
       "  'value': 'not-selected'},\n",
       " 'Action First-Party': {'selectedText': 'Sci-News.com may collect and process',\n",
       "  'startIndexInSegment': 59,\n",
       "  'endIndexInSegment': 95,\n",
       "  'value': 'Unspecified'},\n",
       " 'Personal Information Type': {'selectedText': 'names, e-mail and website addresses',\n",
       "  'startIndexInSegment': 210,\n",
       "  'endIndexInSegment': 245,\n",
       "  'value': 'Contact'},\n",
       " 'Choice Type': {'selectedText': 'Not selected',\n",
       "  'startIndexInSegment': -1,\n",
       "  'endIndexInSegment': -1,\n",
       "  'value': 'Unspecified'},\n",
       " 'Identifiability': {'selectedText': 'null',\n",
       "  'startIndexInSegment': -1,\n",
       "  'endIndexInSegment': -1,\n",
       "  'value': 'not-selected'},\n",
       " 'Does/Does Not': {'selectedText': 'null',\n",
       "  'startIndexInSegment': -1,\n",
       "  'endIndexInSegment': -1,\n",
       "  'value': 'Does'},\n",
       " 'User Type': {'selectedText': 'Not selected',\n",
       "  'startIndexInSegment': -1,\n",
       "  'endIndexInSegment': -1,\n",
       "  'value': 'Unspecified'},\n",
       " 'Purpose': {'selectedText': 'other purposes, for example when you report a problem with our site',\n",
       "  'startIndexInSegment': 287,\n",
       "  'endIndexInSegment': 354,\n",
       "  'value': 'Basic service/feature'}}"
      ]
     },
     "execution_count": 94,
     "metadata": {},
     "output_type": "execute_result"
    }
   ],
   "source": [
    "json.loads(json_list[1])\n"
   ]
  },
  {
   "cell_type": "code",
   "execution_count": 96,
   "id": "ee9fec4a",
   "metadata": {},
   "outputs": [
    {
     "data": {
      "text/html": [
       "<div>\n",
       "<style scoped>\n",
       "    .dataframe tbody tr th:only-of-type {\n",
       "        vertical-align: middle;\n",
       "    }\n",
       "\n",
       "    .dataframe tbody tr th {\n",
       "        vertical-align: top;\n",
       "    }\n",
       "\n",
       "    .dataframe thead th {\n",
       "        text-align: right;\n",
       "    }\n",
       "</style>\n",
       "<table border=\"1\" class=\"dataframe\">\n",
       "  <thead>\n",
       "    <tr style=\"text-align: right;\">\n",
       "      <th></th>\n",
       "      <th>Collection Mode</th>\n",
       "      <th>Choice Scope</th>\n",
       "      <th>Action First-Party</th>\n",
       "      <th>Personal Information Type</th>\n",
       "      <th>Choice Type</th>\n",
       "      <th>Identifiability</th>\n",
       "      <th>Does/Does Not</th>\n",
       "      <th>User Type</th>\n",
       "      <th>Purpose</th>\n",
       "    </tr>\n",
       "  </thead>\n",
       "  <tbody>\n",
       "    <tr>\n",
       "      <th>selectedText</th>\n",
       "      <td>nformation that you provide by filling in form...</td>\n",
       "      <td>null</td>\n",
       "      <td>Sci-News.com may collect and process</td>\n",
       "      <td>names, e-mail and website addresses</td>\n",
       "      <td>Not selected</td>\n",
       "      <td>null</td>\n",
       "      <td>null</td>\n",
       "      <td>Not selected</td>\n",
       "      <td>other purposes, for example when you report a ...</td>\n",
       "    </tr>\n",
       "    <tr>\n",
       "      <th>startIndexInSegment</th>\n",
       "      <td>139</td>\n",
       "      <td>-1</td>\n",
       "      <td>59</td>\n",
       "      <td>210</td>\n",
       "      <td>-1</td>\n",
       "      <td>-1</td>\n",
       "      <td>-1</td>\n",
       "      <td>-1</td>\n",
       "      <td>287</td>\n",
       "    </tr>\n",
       "    <tr>\n",
       "      <th>endIndexInSegment</th>\n",
       "      <td>198</td>\n",
       "      <td>-1</td>\n",
       "      <td>95</td>\n",
       "      <td>245</td>\n",
       "      <td>-1</td>\n",
       "      <td>-1</td>\n",
       "      <td>-1</td>\n",
       "      <td>-1</td>\n",
       "      <td>354</td>\n",
       "    </tr>\n",
       "    <tr>\n",
       "      <th>value</th>\n",
       "      <td>Explicit</td>\n",
       "      <td>not-selected</td>\n",
       "      <td>Unspecified</td>\n",
       "      <td>Contact</td>\n",
       "      <td>Unspecified</td>\n",
       "      <td>not-selected</td>\n",
       "      <td>Does</td>\n",
       "      <td>Unspecified</td>\n",
       "      <td>Basic service/feature</td>\n",
       "    </tr>\n",
       "  </tbody>\n",
       "</table>\n",
       "</div>"
      ],
      "text/plain": [
       "                                                       Collection Mode  \\\n",
       "selectedText         nformation that you provide by filling in form...   \n",
       "startIndexInSegment                                                139   \n",
       "endIndexInSegment                                                  198   \n",
       "value                                                         Explicit   \n",
       "\n",
       "                     Choice Scope                    Action First-Party  \\\n",
       "selectedText                 null  Sci-News.com may collect and process   \n",
       "startIndexInSegment            -1                                    59   \n",
       "endIndexInSegment              -1                                    95   \n",
       "value                not-selected                           Unspecified   \n",
       "\n",
       "                               Personal Information Type   Choice Type  \\\n",
       "selectedText         names, e-mail and website addresses  Not selected   \n",
       "startIndexInSegment                                  210            -1   \n",
       "endIndexInSegment                                    245            -1   \n",
       "value                                            Contact   Unspecified   \n",
       "\n",
       "                    Identifiability Does/Does Not     User Type  \\\n",
       "selectedText                   null          null  Not selected   \n",
       "startIndexInSegment              -1            -1            -1   \n",
       "endIndexInSegment                -1            -1            -1   \n",
       "value                  not-selected          Does   Unspecified   \n",
       "\n",
       "                                                               Purpose  \n",
       "selectedText         other purposes, for example when you report a ...  \n",
       "startIndexInSegment                                                287  \n",
       "endIndexInSegment                                                  354  \n",
       "value                                            Basic service/feature  "
      ]
     },
     "execution_count": 96,
     "metadata": {},
     "output_type": "execute_result"
    }
   ],
   "source": [
    "lock = pd.read_json(json_list[1])\n",
    "lock\n"
   ]
  },
  {
   "cell_type": "code",
   "execution_count": null,
   "id": "e4432756",
   "metadata": {},
   "outputs": [],
   "source": [
    "# in the later for loops or json readings,maybe we can store all the index in the list (as mode-type);\n",
    "# store all the second columns as text and finaly store the value rows in the list as (value);\n",
    "# and we have the catogory before,so we can easily make a new table for all the clolumns in the current dataframe;\n",
    "# <catagory> | <mode> | <text> | <value> | is the four main columns in the charts(Pandas_dataframe);"
   ]
  },
  {
   "cell_type": "markdown",
   "id": "bf5634e0",
   "metadata": {},
   "source": [
    "* make the table as\n",
    "| Category        |              mode                |    Selected_Text    |            Value       |\n",
    "| ---------------- | -------------------------------------------- |------------------ |------------------ |\n",
    "| Other        | Choice Scope  | null |not-selected|\n",
    "| Other        | Collection Mode  | nformation that you provide by filling in form... |Explicit|"
   ]
  },
  {
   "cell_type": "code",
   "execution_count": null,
   "id": "87cf909d",
   "metadata": {},
   "outputs": [],
   "source": [
    "\n",
    "\n",
    "\n",
    "for indexs in df1.index:\n",
    "    json_list = []\n",
    "    json_list = df1.iloc[indexs].tolist()\n",
    "    print(json_list[0])"
   ]
  },
  {
   "cell_type": "code",
   "execution_count": null,
   "id": "df9979a2",
   "metadata": {},
   "outputs": [],
   "source": [
    "history = model.fit(partial_x_train,\n",
    "                    partial_y_train,\n",
    "                    epochs=40,\n",
    "                    batch_size=512,\n",
    "                    validation_data=(x_val, y_val),\n",
    "                    verbose=1)"
   ]
  }
 ],
 "metadata": {
  "kernelspec": {
   "display_name": "Python 3 (ipykernel)",
   "language": "python",
   "name": "python3"
  },
  "language_info": {
   "codemirror_mode": {
    "name": "ipython",
    "version": 3
   },
   "file_extension": ".py",
   "mimetype": "text/x-python",
   "name": "python",
   "nbconvert_exporter": "python",
   "pygments_lexer": "ipython3",
   "version": "3.9.9"
  }
 },
 "nbformat": 4,
 "nbformat_minor": 5
}
