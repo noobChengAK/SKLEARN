{
 "cells": [
  {
   "cell_type": "code",
   "execution_count": 1,
   "metadata": {
    "Collapsed": "false"
   },
   "outputs": [],
   "source": [
    "import pandas as pd\n",
    "import csv\n",
    "import numpy as np\n",
    "import json\n",
    "from sklearn.preprocessing import MultiLabelBinarizer\n",
    "from sklearn.model_selection import train_test_split"
   ]
  },
  {
   "cell_type": "code",
   "execution_count": 2,
   "metadata": {
    "Collapsed": "false"
   },
   "outputs": [],
   "source": [
    "filepath = 'OPP-115/two_columns.csv'"
   ]
  },
  {
   "cell_type": "code",
   "execution_count": 3,
   "metadata": {
    "Collapsed": "false"
   },
   "outputs": [],
   "source": [
    "df1 = pd.read_csv(filepath)"
   ]
  },
  {
   "cell_type": "code",
   "execution_count": 4,
   "metadata": {
    "Collapsed": "false"
   },
   "outputs": [],
   "source": [
    "res = []\n",
    "for index, row in df1.iterrows():\n",
    "    Category = row[\"Category\"]\n",
    "    Segements = json.loads(row[\"Segements\"])\n",
    "    for key, value in Segements.items():\n",
    "        if \"selectedText\" in value:\n",
    "            if value['selectedText'] == 'null' or value['selectedText'] == 'Not selected' or value['selectedText'] == '' or value['selectedText'] == ' ':\n",
    "                continue\n",
    "            res.append([value['selectedText'], Category, value['value']])"
   ]
  },
  {
   "cell_type": "code",
   "execution_count": 5,
   "metadata": {
    "Collapsed": "false"
   },
   "outputs": [
    {
     "data": {
      "text/html": [
       "<div>\n",
       "<style scoped>\n",
       "    .dataframe tbody tr th:only-of-type {\n",
       "        vertical-align: middle;\n",
       "    }\n",
       "\n",
       "    .dataframe tbody tr th {\n",
       "        vertical-align: top;\n",
       "    }\n",
       "\n",
       "    .dataframe thead th {\n",
       "        text-align: right;\n",
       "    }\n",
       "</style>\n",
       "<table border=\"1\" class=\"dataframe\">\n",
       "  <thead>\n",
       "    <tr style=\"text-align: right;\">\n",
       "      <th></th>\n",
       "      <th>text</th>\n",
       "      <th>category</th>\n",
       "      <th>attribute</th>\n",
       "    </tr>\n",
       "  </thead>\n",
       "  <tbody>\n",
       "    <tr>\n",
       "      <th>0</th>\n",
       "      <td>Sci-News.com is committed to protecting and re...</td>\n",
       "      <td>Other</td>\n",
       "      <td>Introductory/Generic</td>\n",
       "    </tr>\n",
       "    <tr>\n",
       "      <th>1</th>\n",
       "      <td>nformation that you provide by filling in form...</td>\n",
       "      <td>First Party Collection/Use</td>\n",
       "      <td>Explicit</td>\n",
       "    </tr>\n",
       "    <tr>\n",
       "      <th>2</th>\n",
       "      <td>Sci-News.com may collect and process</td>\n",
       "      <td>First Party Collection/Use</td>\n",
       "      <td>Unspecified</td>\n",
       "    </tr>\n",
       "    <tr>\n",
       "      <th>3</th>\n",
       "      <td>including</td>\n",
       "      <td>First Party Collection/Use</td>\n",
       "      <td>Unspecified</td>\n",
       "    </tr>\n",
       "    <tr>\n",
       "      <th>4</th>\n",
       "      <td>other purposes, for example when you report a ...</td>\n",
       "      <td>First Party Collection/Use</td>\n",
       "      <td>Basic service/feature</td>\n",
       "    </tr>\n",
       "    <tr>\n",
       "      <th>...</th>\n",
       "      <td>...</td>\n",
       "      <td>...</td>\n",
       "      <td>...</td>\n",
       "    </tr>\n",
       "    <tr>\n",
       "      <th>77759</th>\n",
       "      <td>information@mohegansun.com</td>\n",
       "      <td>Other</td>\n",
       "      <td>Privacy contact information</td>\n",
       "    </tr>\n",
       "    <tr>\n",
       "      <th>77760</th>\n",
       "      <td>If you have a question regarding any of the ab...</td>\n",
       "      <td>Other</td>\n",
       "      <td>Privacy contact information</td>\n",
       "    </tr>\n",
       "    <tr>\n",
       "      <th>77761</th>\n",
       "      <td>1 Mohegan Sun Boulevard Uncasville, CT 06382 F...</td>\n",
       "      <td>Other</td>\n",
       "      <td>Privacy contact information</td>\n",
       "    </tr>\n",
       "    <tr>\n",
       "      <th>77762</th>\n",
       "      <td>1 Mohegan Sun Boulevard Uncasville, CT 06382 F...</td>\n",
       "      <td>Other</td>\n",
       "      <td>Privacy contact information</td>\n",
       "    </tr>\n",
       "    <tr>\n",
       "      <th>77763</th>\n",
       "      <td>1 Mohegan Sun Boulevard Uncasville, CT 06382 F...</td>\n",
       "      <td>Other</td>\n",
       "      <td>Privacy contact information</td>\n",
       "    </tr>\n",
       "  </tbody>\n",
       "</table>\n",
       "<p>77764 rows × 3 columns</p>\n",
       "</div>"
      ],
      "text/plain": [
       "                                                    text  \\\n",
       "0      Sci-News.com is committed to protecting and re...   \n",
       "1      nformation that you provide by filling in form...   \n",
       "2                   Sci-News.com may collect and process   \n",
       "3                                              including   \n",
       "4      other purposes, for example when you report a ...   \n",
       "...                                                  ...   \n",
       "77759                         information@mohegansun.com   \n",
       "77760  If you have a question regarding any of the ab...   \n",
       "77761  1 Mohegan Sun Boulevard Uncasville, CT 06382 F...   \n",
       "77762  1 Mohegan Sun Boulevard Uncasville, CT 06382 F...   \n",
       "77763  1 Mohegan Sun Boulevard Uncasville, CT 06382 F...   \n",
       "\n",
       "                         category                    attribute  \n",
       "0                           Other         Introductory/Generic  \n",
       "1      First Party Collection/Use                     Explicit  \n",
       "2      First Party Collection/Use                  Unspecified  \n",
       "3      First Party Collection/Use                  Unspecified  \n",
       "4      First Party Collection/Use        Basic service/feature  \n",
       "...                           ...                          ...  \n",
       "77759                       Other  Privacy contact information  \n",
       "77760                       Other  Privacy contact information  \n",
       "77761                       Other  Privacy contact information  \n",
       "77762                       Other  Privacy contact information  \n",
       "77763                       Other  Privacy contact information  \n",
       "\n",
       "[77764 rows x 3 columns]"
      ]
     },
     "execution_count": 5,
     "metadata": {},
     "output_type": "execute_result"
    }
   ],
   "source": [
    "df = pd.DataFrame(res, columns=['text', 'category', 'attribute'])\n",
    "df"
   ]
  },
  {
   "cell_type": "code",
   "execution_count": null,
   "metadata": {
    "Collapsed": "false"
   },
   "outputs": [],
   "source": []
  },
  {
   "cell_type": "code",
   "execution_count": 6,
   "metadata": {
    "Collapsed": "false",
    "scrolled": true
   },
   "outputs": [
    {
     "data": {
      "text/plain": [
       "First Party Collection/Use              37281\n",
       "Third Party Sharing/Collection          25013\n",
       "User Choice/Control                      6145\n",
       "Other                                    3444\n",
       "User Access, Edit and Deletion           1691\n",
       "Policy Change                            1216\n",
       "Data Security                            1006\n",
       "Data Retention                            942\n",
       "International and Specific Audiences      936\n",
       "Do Not Track                               90\n",
       "Name: category, dtype: int64"
      ]
     },
     "execution_count": 6,
     "metadata": {},
     "output_type": "execute_result"
    }
   ],
   "source": [
    "df['category'].value_counts()"
   ]
  },
  {
   "cell_type": "code",
   "execution_count": 7,
   "metadata": {
    "Collapsed": "false"
   },
   "outputs": [],
   "source": [
    "df_cate = df[['text', 'category']]"
   ]
  },
  {
   "cell_type": "code",
   "execution_count": 8,
   "metadata": {
    "Collapsed": "false"
   },
   "outputs": [],
   "source": [
    "def concat_func(x):\n",
    "    return pd.Series({\n",
    "        'category': x['category'].unique()\n",
    "    }\n",
    "    )\n",
    "#分组聚合+拼接\n",
    "df_cate1 = df_cate.groupby(df_cate['text']).apply(concat_func).reset_index()"
   ]
  },
  {
   "cell_type": "code",
   "execution_count": 9,
   "metadata": {
    "Collapsed": "false"
   },
   "outputs": [
    {
     "data": {
      "text/html": [
       "<div>\n",
       "<style scoped>\n",
       "    .dataframe tbody tr th:only-of-type {\n",
       "        vertical-align: middle;\n",
       "    }\n",
       "\n",
       "    .dataframe tbody tr th {\n",
       "        vertical-align: top;\n",
       "    }\n",
       "\n",
       "    .dataframe thead th {\n",
       "        text-align: right;\n",
       "    }\n",
       "</style>\n",
       "<table border=\"1\" class=\"dataframe\">\n",
       "  <thead>\n",
       "    <tr style=\"text-align: right;\">\n",
       "      <th></th>\n",
       "      <th>text</th>\n",
       "      <th>category</th>\n",
       "    </tr>\n",
       "  </thead>\n",
       "  <tbody>\n",
       "    <tr>\n",
       "      <th>0</th>\n",
       "      <td>\" You are not required to provide information ...</td>\n",
       "      <td>[First Party Collection/Use]</td>\n",
       "    </tr>\n",
       "    <tr>\n",
       "      <th>1</th>\n",
       "      <td>\"Account\" on the homepage to sign in to your S...</td>\n",
       "      <td>[User Access, Edit and Deletion]</td>\n",
       "    </tr>\n",
       "    <tr>\n",
       "      <th>2</th>\n",
       "      <td>\"Automatic information\" is information automat...</td>\n",
       "      <td>[First Party Collection/Use]</td>\n",
       "    </tr>\n",
       "    <tr>\n",
       "      <th>3</th>\n",
       "      <td>\"Automatic information\" is information automat...</td>\n",
       "      <td>[First Party Collection/Use]</td>\n",
       "    </tr>\n",
       "    <tr>\n",
       "      <th>4</th>\n",
       "      <td>\"Change Your Communication Preferences.</td>\n",
       "      <td>[User Choice/Control]</td>\n",
       "    </tr>\n",
       "    <tr>\n",
       "      <th>...</th>\n",
       "      <td>...</td>\n",
       "      <td>...</td>\n",
       "    </tr>\n",
       "    <tr>\n",
       "      <th>31321</th>\n",
       "      <td>zip code and state</td>\n",
       "      <td>[First Party Collection/Use]</td>\n",
       "    </tr>\n",
       "    <tr>\n",
       "      <th>31322</th>\n",
       "      <td>zip code,</td>\n",
       "      <td>[First Party Collection/Use]</td>\n",
       "    </tr>\n",
       "    <tr>\n",
       "      <th>31323</th>\n",
       "      <td>zip code, age, income</td>\n",
       "      <td>[First Party Collection/Use]</td>\n",
       "    </tr>\n",
       "    <tr>\n",
       "      <th>31324</th>\n",
       "      <td>zip code/postal code.</td>\n",
       "      <td>[First Party Collection/Use]</td>\n",
       "    </tr>\n",
       "    <tr>\n",
       "      <th>31325</th>\n",
       "      <td>zip codes for example</td>\n",
       "      <td>[First Party Collection/Use]</td>\n",
       "    </tr>\n",
       "  </tbody>\n",
       "</table>\n",
       "<p>31326 rows × 2 columns</p>\n",
       "</div>"
      ],
      "text/plain": [
       "                                                    text  \\\n",
       "0      \" You are not required to provide information ...   \n",
       "1      \"Account\" on the homepage to sign in to your S...   \n",
       "2      \"Automatic information\" is information automat...   \n",
       "3      \"Automatic information\" is information automat...   \n",
       "4                \"Change Your Communication Preferences.   \n",
       "...                                                  ...   \n",
       "31321                                 zip code and state   \n",
       "31322                                          zip code,   \n",
       "31323                              zip code, age, income   \n",
       "31324                              zip code/postal code.   \n",
       "31325                              zip codes for example   \n",
       "\n",
       "                               category  \n",
       "0          [First Party Collection/Use]  \n",
       "1      [User Access, Edit and Deletion]  \n",
       "2          [First Party Collection/Use]  \n",
       "3          [First Party Collection/Use]  \n",
       "4                 [User Choice/Control]  \n",
       "...                                 ...  \n",
       "31321      [First Party Collection/Use]  \n",
       "31322      [First Party Collection/Use]  \n",
       "31323      [First Party Collection/Use]  \n",
       "31324      [First Party Collection/Use]  \n",
       "31325      [First Party Collection/Use]  \n",
       "\n",
       "[31326 rows x 2 columns]"
      ]
     },
     "execution_count": 9,
     "metadata": {},
     "output_type": "execute_result"
    }
   ],
   "source": [
    "df_cate1"
   ]
  },
  {
   "cell_type": "code",
   "execution_count": 10,
   "metadata": {
    "Collapsed": "false"
   },
   "outputs": [],
   "source": [
    "mlb = MultiLabelBinarizer()"
   ]
  },
  {
   "cell_type": "code",
   "execution_count": 11,
   "metadata": {
    "Collapsed": "false"
   },
   "outputs": [],
   "source": [
    "labels = mlb.fit_transform(df_cate1['category'])"
   ]
  },
  {
   "cell_type": "code",
   "execution_count": 12,
   "metadata": {
    "Collapsed": "false"
   },
   "outputs": [],
   "source": [
    "columns = [f\"label{i}\" for i in range(labels.shape[1])]"
   ]
  },
  {
   "cell_type": "code",
   "execution_count": 13,
   "metadata": {
    "Collapsed": "false"
   },
   "outputs": [
    {
     "data": {
      "text/plain": [
       "['label0',\n",
       " 'label1',\n",
       " 'label2',\n",
       " 'label3',\n",
       " 'label4',\n",
       " 'label5',\n",
       " 'label6',\n",
       " 'label7',\n",
       " 'label8',\n",
       " 'label9']"
      ]
     },
     "execution_count": 13,
     "metadata": {},
     "output_type": "execute_result"
    }
   ],
   "source": [
    "columns"
   ]
  },
  {
   "cell_type": "code",
   "execution_count": 14,
   "metadata": {
    "Collapsed": "false"
   },
   "outputs": [],
   "source": [
    "df_cate1[columns] = labels"
   ]
  },
  {
   "cell_type": "code",
   "execution_count": 15,
   "metadata": {
    "Collapsed": "false"
   },
   "outputs": [],
   "source": [
    "df_cate2 = df_cate1[[\"text\"] + columns]"
   ]
  },
  {
   "cell_type": "code",
   "execution_count": 16,
   "metadata": {
    "Collapsed": "false"
   },
   "outputs": [
    {
     "data": {
      "text/html": [
       "<div>\n",
       "<style scoped>\n",
       "    .dataframe tbody tr th:only-of-type {\n",
       "        vertical-align: middle;\n",
       "    }\n",
       "\n",
       "    .dataframe tbody tr th {\n",
       "        vertical-align: top;\n",
       "    }\n",
       "\n",
       "    .dataframe thead th {\n",
       "        text-align: right;\n",
       "    }\n",
       "</style>\n",
       "<table border=\"1\" class=\"dataframe\">\n",
       "  <thead>\n",
       "    <tr style=\"text-align: right;\">\n",
       "      <th></th>\n",
       "      <th>text</th>\n",
       "      <th>label0</th>\n",
       "      <th>label1</th>\n",
       "      <th>label2</th>\n",
       "      <th>label3</th>\n",
       "      <th>label4</th>\n",
       "      <th>label5</th>\n",
       "      <th>label6</th>\n",
       "      <th>label7</th>\n",
       "      <th>label8</th>\n",
       "      <th>label9</th>\n",
       "    </tr>\n",
       "  </thead>\n",
       "  <tbody>\n",
       "    <tr>\n",
       "      <th>0</th>\n",
       "      <td>\" You are not required to provide information ...</td>\n",
       "      <td>0</td>\n",
       "      <td>0</td>\n",
       "      <td>0</td>\n",
       "      <td>1</td>\n",
       "      <td>0</td>\n",
       "      <td>0</td>\n",
       "      <td>0</td>\n",
       "      <td>0</td>\n",
       "      <td>0</td>\n",
       "      <td>0</td>\n",
       "    </tr>\n",
       "    <tr>\n",
       "      <th>1</th>\n",
       "      <td>\"Account\" on the homepage to sign in to your S...</td>\n",
       "      <td>0</td>\n",
       "      <td>0</td>\n",
       "      <td>0</td>\n",
       "      <td>0</td>\n",
       "      <td>0</td>\n",
       "      <td>0</td>\n",
       "      <td>0</td>\n",
       "      <td>0</td>\n",
       "      <td>1</td>\n",
       "      <td>0</td>\n",
       "    </tr>\n",
       "    <tr>\n",
       "      <th>2</th>\n",
       "      <td>\"Automatic information\" is information automat...</td>\n",
       "      <td>0</td>\n",
       "      <td>0</td>\n",
       "      <td>0</td>\n",
       "      <td>1</td>\n",
       "      <td>0</td>\n",
       "      <td>0</td>\n",
       "      <td>0</td>\n",
       "      <td>0</td>\n",
       "      <td>0</td>\n",
       "      <td>0</td>\n",
       "    </tr>\n",
       "    <tr>\n",
       "      <th>3</th>\n",
       "      <td>\"Automatic information\" is information automat...</td>\n",
       "      <td>0</td>\n",
       "      <td>0</td>\n",
       "      <td>0</td>\n",
       "      <td>1</td>\n",
       "      <td>0</td>\n",
       "      <td>0</td>\n",
       "      <td>0</td>\n",
       "      <td>0</td>\n",
       "      <td>0</td>\n",
       "      <td>0</td>\n",
       "    </tr>\n",
       "    <tr>\n",
       "      <th>4</th>\n",
       "      <td>\"Change Your Communication Preferences.</td>\n",
       "      <td>0</td>\n",
       "      <td>0</td>\n",
       "      <td>0</td>\n",
       "      <td>0</td>\n",
       "      <td>0</td>\n",
       "      <td>0</td>\n",
       "      <td>0</td>\n",
       "      <td>0</td>\n",
       "      <td>0</td>\n",
       "      <td>1</td>\n",
       "    </tr>\n",
       "    <tr>\n",
       "      <th>...</th>\n",
       "      <td>...</td>\n",
       "      <td>...</td>\n",
       "      <td>...</td>\n",
       "      <td>...</td>\n",
       "      <td>...</td>\n",
       "      <td>...</td>\n",
       "      <td>...</td>\n",
       "      <td>...</td>\n",
       "      <td>...</td>\n",
       "      <td>...</td>\n",
       "      <td>...</td>\n",
       "    </tr>\n",
       "    <tr>\n",
       "      <th>31321</th>\n",
       "      <td>zip code and state</td>\n",
       "      <td>0</td>\n",
       "      <td>0</td>\n",
       "      <td>0</td>\n",
       "      <td>1</td>\n",
       "      <td>0</td>\n",
       "      <td>0</td>\n",
       "      <td>0</td>\n",
       "      <td>0</td>\n",
       "      <td>0</td>\n",
       "      <td>0</td>\n",
       "    </tr>\n",
       "    <tr>\n",
       "      <th>31322</th>\n",
       "      <td>zip code,</td>\n",
       "      <td>0</td>\n",
       "      <td>0</td>\n",
       "      <td>0</td>\n",
       "      <td>1</td>\n",
       "      <td>0</td>\n",
       "      <td>0</td>\n",
       "      <td>0</td>\n",
       "      <td>0</td>\n",
       "      <td>0</td>\n",
       "      <td>0</td>\n",
       "    </tr>\n",
       "    <tr>\n",
       "      <th>31323</th>\n",
       "      <td>zip code, age, income</td>\n",
       "      <td>0</td>\n",
       "      <td>0</td>\n",
       "      <td>0</td>\n",
       "      <td>1</td>\n",
       "      <td>0</td>\n",
       "      <td>0</td>\n",
       "      <td>0</td>\n",
       "      <td>0</td>\n",
       "      <td>0</td>\n",
       "      <td>0</td>\n",
       "    </tr>\n",
       "    <tr>\n",
       "      <th>31324</th>\n",
       "      <td>zip code/postal code.</td>\n",
       "      <td>0</td>\n",
       "      <td>0</td>\n",
       "      <td>0</td>\n",
       "      <td>1</td>\n",
       "      <td>0</td>\n",
       "      <td>0</td>\n",
       "      <td>0</td>\n",
       "      <td>0</td>\n",
       "      <td>0</td>\n",
       "      <td>0</td>\n",
       "    </tr>\n",
       "    <tr>\n",
       "      <th>31325</th>\n",
       "      <td>zip codes for example</td>\n",
       "      <td>0</td>\n",
       "      <td>0</td>\n",
       "      <td>0</td>\n",
       "      <td>1</td>\n",
       "      <td>0</td>\n",
       "      <td>0</td>\n",
       "      <td>0</td>\n",
       "      <td>0</td>\n",
       "      <td>0</td>\n",
       "      <td>0</td>\n",
       "    </tr>\n",
       "  </tbody>\n",
       "</table>\n",
       "<p>31326 rows × 11 columns</p>\n",
       "</div>"
      ],
      "text/plain": [
       "                                                    text  label0  label1  \\\n",
       "0      \" You are not required to provide information ...       0       0   \n",
       "1      \"Account\" on the homepage to sign in to your S...       0       0   \n",
       "2      \"Automatic information\" is information automat...       0       0   \n",
       "3      \"Automatic information\" is information automat...       0       0   \n",
       "4                \"Change Your Communication Preferences.       0       0   \n",
       "...                                                  ...     ...     ...   \n",
       "31321                                 zip code and state       0       0   \n",
       "31322                                          zip code,       0       0   \n",
       "31323                              zip code, age, income       0       0   \n",
       "31324                              zip code/postal code.       0       0   \n",
       "31325                              zip codes for example       0       0   \n",
       "\n",
       "       label2  label3  label4  label5  label6  label7  label8  label9  \n",
       "0           0       1       0       0       0       0       0       0  \n",
       "1           0       0       0       0       0       0       1       0  \n",
       "2           0       1       0       0       0       0       0       0  \n",
       "3           0       1       0       0       0       0       0       0  \n",
       "4           0       0       0       0       0       0       0       1  \n",
       "...       ...     ...     ...     ...     ...     ...     ...     ...  \n",
       "31321       0       1       0       0       0       0       0       0  \n",
       "31322       0       1       0       0       0       0       0       0  \n",
       "31323       0       1       0       0       0       0       0       0  \n",
       "31324       0       1       0       0       0       0       0       0  \n",
       "31325       0       1       0       0       0       0       0       0  \n",
       "\n",
       "[31326 rows x 11 columns]"
      ]
     },
     "execution_count": 16,
     "metadata": {},
     "output_type": "execute_result"
    }
   ],
   "source": [
    "df_cate2"
   ]
  },
  {
   "cell_type": "code",
   "execution_count": 17,
   "metadata": {
    "Collapsed": "false"
   },
   "outputs": [],
   "source": [
    "train, temp = train_test_split(df_cate2, test_size=0.3, random_state=2022)\n",
    "dev, test = train_test_split(temp, test_size=0.5, random_state=2022)"
   ]
  },
  {
   "cell_type": "code",
   "execution_count": 18,
   "metadata": {
    "Collapsed": "false"
   },
   "outputs": [],
   "source": [
    "train.to_csv('OPP-115/data/train.csv', index=None)\n",
    "dev.to_csv('OPP-115/data/dev.csv', index=None)\n",
    "test.to_csv('OPP-115/data/test.csv', index=None)"
   ]
  },
  {
   "cell_type": "code",
   "execution_count": 19,
   "metadata": {
    "Collapsed": "false"
   },
   "outputs": [
    {
     "data": {
      "text/plain": [
       "['Data Retention',\n",
       " 'Data Security',\n",
       " 'Do Not Track',\n",
       " 'First Party Collection/Use',\n",
       " 'International and Specific Audiences',\n",
       " 'Other',\n",
       " 'Policy Change',\n",
       " 'Third Party Sharing/Collection',\n",
       " 'User Access, Edit and Deletion',\n",
       " 'User Choice/Control']"
      ]
     },
     "execution_count": 19,
     "metadata": {},
     "output_type": "execute_result"
    }
   ],
   "source": [
    "class_ = list(mlb.classes_)\n",
    "class_"
   ]
  },
  {
   "cell_type": "code",
   "execution_count": 20,
   "metadata": {
    "Collapsed": "false"
   },
   "outputs": [],
   "source": [
    "with open('OPP-115/data/class.txt', 'w', encoding='utf-8') as f:\n",
    "    for c in class_:\n",
    "        f.write(c + '\\n')"
   ]
  },
  {
   "cell_type": "code",
   "execution_count": 21,
   "metadata": {
    "Collapsed": "false"
   },
   "outputs": [],
   "source": [
    "# df_cate1.loc[16090, 'category']"
   ]
  },
  {
   "cell_type": "code",
   "execution_count": null,
   "metadata": {
    "Collapsed": "false"
   },
   "outputs": [],
   "source": []
  }
 ],
 "metadata": {
  "kernelspec": {
   "display_name": "Python 3",
   "language": "python",
   "name": "python3"
  },
  "language_info": {
   "codemirror_mode": {
    "name": "ipython",
    "version": 3
   },
   "file_extension": ".py",
   "mimetype": "text/x-python",
   "name": "python",
   "nbconvert_exporter": "python",
   "pygments_lexer": "ipython3",
   "version": "3.6.5"
  }
 },
 "nbformat": 4,
 "nbformat_minor": 5
}
